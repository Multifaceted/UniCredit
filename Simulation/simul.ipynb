{
 "cells": [
  {
   "cell_type": "code",
   "execution_count": 27,
   "metadata": {},
   "outputs": [],
   "source": [
    "import pandas as pd\n",
    "import numpy as np\n",
    "import heapq\n",
    "import queue"
   ]
  },
  {
   "cell_type": "code",
   "execution_count": 28,
   "metadata": {},
   "outputs": [],
   "source": [
    "TIME_TOTAL = 20 # in the unit of month\n",
    "N_REVIEWERS = 30\n",
    "N_ARTICLES_PER_ISSUE = 10\n",
    "ACCEPT_RATE_EDITOR = .1\n",
    "ACCEPT_RATE_REVIEWER = .9"
   ]
  },
  {
   "cell_type": "markdown",
   "metadata": {},
   "source": [
    "The idea of the algorithm is as follows:\n",
    "* Event is the trigger.\n",
    "* Paper is the processed.\n",
    "* Reviewer is the processor."
   ]
  },
  {
   "cell_type": "code",
   "execution_count": 29,
   "metadata": {},
   "outputs": [],
   "source": [
    "class Event:\n",
    "    \"\"\"\n",
    "    Event mimics the behavior of the timeline. Each time an event occurs, corresponding objects change accordingly.\n",
    "    The operators \"<\", \"<=\", \"==\", \">=\", \">\" are overridden so that the event container -- Min-Heap, can sort its events.\n",
    "    ---------------------------------------------------------------------------------------------------------------------\n",
    "    kind: There are three kind of events: \"paper_in\", \"paper_out\" and \"issue\".\n",
    "          \"paper_in\" is an incoming paper, whose time_occur is predetermined and whose quantity per month is subject to N(110, 10^2)\n",
    "          \"paper_out\" is an outcoming reviewed paper.\n",
    "          \"issue\" is an issuance of journal, whose time_occur is predetermined.\n",
    "    time_occur: time when this event occurs.\n",
    "    \"\"\"\n",
    "    \n",
    "    def __init__(self, kind, time_occur):\n",
    "        self.kind = kind\n",
    "        self.time_occur = time_occur\n",
    "    \n",
    "    def __lt__(self, other):\n",
    "        return self.time_occur < other.time_occur\n",
    "    \n",
    "    def __gt__(self, other):\n",
    "        return self.time_occur > other.time_occur\n",
    "    \n",
    "    def __eq__(self, other):\n",
    "        return self.time_occur == other.time_occur\n",
    "    \n",
    "    def __le__(self, other):\n",
    "        return self.time_occur <= other.time_occur\n",
    "    \n",
    "    def __ge__(self, other):\n",
    "        return self.time_occur >= other.time_occur"
   ]
  },
  {
   "cell_type": "code",
   "execution_count": 30,
   "metadata": {},
   "outputs": [],
   "source": [
    "class Paper:\n",
    "    \"\"\"\n",
    "    Paper is the target for analysis. Its attributes change during the whole process.\n",
    "    ---------------------------------------------------------------------------------\n",
    "    accepted_by_editor: if this paper is accepted by editors or not\n",
    "    accepted_by_reviewer: if this paper is accepted by reviewers or not\n",
    "    time_in: time when the review of this paper is started\n",
    "    time_out: time when the review of this paper is finished\n",
    "    time_published: time when the paper is published\n",
    "    \"\"\"\n",
    "    \n",
    "    def __init__(self, accepted_by_editor, accepted_by_reviewer, time_in, time_out, time_published):\n",
    "        self.accepted_by_editor = accepted_by_editor\n",
    "        self.accepted_by_reviewer = accepted_by_reviewer\n",
    "        self.time_in = time_in\n",
    "        self.time_out = time_out\n",
    "        self.time_published = time_published"
   ]
  },
  {
   "cell_type": "code",
   "execution_count": 31,
   "metadata": {},
   "outputs": [],
   "source": [
    "class Reviewer:\n",
    "    \"\"\"\n",
    "    Reviewer is the processor. \n",
    "    It pushes a Paper in its queue when an event \"paper_in\" occurs. It pops a Paper out of its queue when an event \"paper_out\" occur.\n",
    "    The operators \"<\", \"<=\", \"==\", \">=\", \">\" are overridden so that the event container -- Min-Heap, can sort its events,\n",
    "    so that when an event \"paper_out\" occurs, the Reviewer of this paper is at the exit of the Min-Heap.\n",
    "    ---------------------------------------------------------------------------------------------------------------------------------\n",
    "    time_next: time when the reviewer finishes reviewing the paper on hand and starts reviewing the next paper, \n",
    "               only for deciding which reviewer to choose when assigning a new paper.\n",
    "    n_paper: num of papers the reviewer has, including the one under review.\n",
    "    paper_processing_qu: a Queue (First-in-First-out) which contains all the Papers the reviewer has.\n",
    "    ACCEPT_RATE_REVIEWER: the probability that the reviewer accepts a Paper.\n",
    "    \"\"\"\n",
    "    \n",
    "    def __init__(self, ACCEPT_RATE_REVIEWER, paper_processing_qu, time_next = 0, n_paper = 0):\n",
    "        self.time_next = time_next\n",
    "        self.n_paper = n_paper\n",
    "        self.paper_processing_qu = paper_processing_qu\n",
    "        self.ACCEPT_RATE_REVIEWER  = ACCEPT_RATE_REVIEWER\n",
    "        \n",
    "    def accept(self, event, paper):\n",
    "        \"\"\"\n",
    "        Accept a new paper. (REQUIRE HEAPIFY)\n",
    "        \"\"\"\n",
    "        import numpy as np\n",
    "        \n",
    "        if event.kind != \"paper_in\":  # Check the correctness of event kind.\n",
    "            raise Exception(\"Event is not paper_in!\")\n",
    "        \n",
    "        self.paper_processing_qu.put(paper) # Add this Paper to the Paper Queue.\n",
    "        self.n_paper = self.n_paper + 1 # Add the num of total papers by 1.\n",
    "        event_finish = self.start(event.time_occur)\n",
    "        return event_finish\n",
    "    \n",
    "    def finish(self, event):\n",
    "        \"\"\"\n",
    "        Finish an old paper. (REQUIRE HEAPIFY)\n",
    "        \"\"\"\n",
    "        import numpy as np\n",
    "        \n",
    "        if event.kind != \"paper_out\":  # Check the correctness of event kind.\n",
    "            raise Exception(\"Event is not paper_out!\")\n",
    "        \n",
    "        paper_old = self.paper_processing_qu.get(False) # Pop the old paper out of the Paper Queue.\n",
    "        self.n_paper = self.n_paper - 1 # Add the num of total papers by 1.\n",
    "        \n",
    "        \n",
    "        if event.time_occur != paper_old.time_out:\n",
    "            raise Exception(\"Paper is under review!\")\n",
    "        \n",
    "        accept_or_not = np.random.binomial(n = 1, p = self.ACCEPT_RATE_REVIEWER) == 1\n",
    "        paper_old.accepted_by_reviewer = accept_or_not\n",
    "        \n",
    "        event_finish = self.start(event.time_occur)\n",
    "        \n",
    "        return paper_old, event_finish\n",
    "    \n",
    "    def start(self, time_current):\n",
    "        \"\"\"\n",
    "        Start to review a new paper. This method is called within the class.\n",
    "        \"\"\"\n",
    "        event_finish = None\n",
    "        \n",
    "        if not self.paper_processing_qu.empty(): # if the Paper Queue is not empty\n",
    "            paper_new = self.paper_processing_qu.queue[0] # Get but not pop the first Paper.\n",
    "            if paper_new.time_out is None: # if the new paper is not under review\n",
    "                time_duration = np.random.normal(loc = 6, scale = 1) # the time needed for this review\n",
    "                time_finish = time_current + time_duration # the time when the review if finished\n",
    "                paper_new.time_out = time_finish # set the time_out attribute of the Paper\n",
    "                self.compute_time_next(time_current)\n",
    "                event_finish = Event(kind = \"paper_out\", time_occur = time_finish)\n",
    "                \n",
    "        return event_finish # return None if there is no more papers to review or the new paper is already under review. Otherwise, return a \"paper_out\" event with the finishing time.\n",
    "    \n",
    "    def compute_time_next(self, time_current):\n",
    "        \"\"\"\n",
    "        Adjust time_next. This method is called either when a new paper comes in or an old paper comes out.\n",
    "        \"\"\"\n",
    "        if self.paper_processing_qu.empty(): # if there is no more papers to review, which means the method is called by the function finish\n",
    "            self.time_next = time_current # set time_next to be the time when the reviewer is free (now).\n",
    "        else:\n",
    "            self.time_next = self.paper_processing_qu.queue[0].time_out\n",
    "    \n",
    "    def __lt__(self, other):\n",
    "        return self.time_next < other.time_next\n",
    "    \n",
    "    def __gt__(self, other):\n",
    "        return self.time_next > other.time_next\n",
    "    \n",
    "    def __eq__(self, other):\n",
    "        return self.time_next == other.time_next\n",
    "    \n",
    "    def __le__(self, other):\n",
    "        return self.time_next <= other.time_next\n",
    "    \n",
    "    def __ge__(self, other):\n",
    "        return self.time_next >= other.time_next\n",
    "        \n",
    "    def __lshift__(self, other):\n",
    "        return self.n_paper < other.n_paper or (self.n_paper == other.n_paper and self.time_next < other.time_next)"
   ]
  },
  {
   "cell_type": "code",
   "execution_count": 32,
   "metadata": {},
   "outputs": [],
   "source": [
    "def get_most_free_reviewer(reviewer_hp):\n",
    "    most_free_reviewer = reviewer_hp[0]\n",
    "    for reviewer in reviewer_hp:\n",
    "        if reviewer << most_free_reviewer:\n",
    "            most_free_reviewer = reviewer\n",
    "    \n",
    "    return most_free_reviewer"
   ]
  },
  {
   "cell_type": "code",
   "execution_count": 33,
   "metadata": {},
   "outputs": [],
   "source": [
    "time_current = 0\n",
    "event_hp = []\n",
    "reviewer_hp = []\n",
    "paper_reviewed_qu = queue.Queue()\n",
    "paper_published_qu = queue.Queue()\n",
    "paper_rejected_by_editor_qu = queue.Queue()\n",
    "paper_rejected_by_reviewer_qu = queue.Queue()"
   ]
  },
  {
   "cell_type": "code",
   "execution_count": 34,
   "metadata": {},
   "outputs": [],
   "source": [
    "# Initialization\n",
    "for month in range(TIME_TOTAL):\n",
    "    heapq.heappush(event_hp, Event(kind = \"issue\", time_occur = month))\n",
    "    n_paper_submitted = int(np.random.normal(loc = 110, scale = 10))\n",
    "    for i_paper in range(n_paper_submitted):\n",
    "        heapq.heappush(event_hp, Event(kind = \"paper_in\", time_occur = month))\n",
    "\n",
    "for i_reviewer in range(N_REVIEWERS):\n",
    "    heapq.heappush(reviewer_hp, Reviewer(ACCEPT_RATE_REVIEWER = ACCEPT_RATE_REVIEWER, paper_processing_qu = queue.Queue()))"
   ]
  },
  {
   "cell_type": "code",
   "execution_count": 35,
   "metadata": {},
   "outputs": [],
   "source": [
    "while len(event_hp) > 0:\n",
    "    event = heapq.heappop(event_hp)\n",
    "    time_current = event.time_occur\n",
    "    if event.kind == \"paper_in\":\n",
    "        accepted_by_editor = np.random.binomial(n = 1, p = ACCEPT_RATE_EDITOR) == 1\n",
    "        paper_new = Paper(accepted_by_editor = accepted_by_editor,\n",
    "                          accepted_by_reviewer = None,\n",
    "                          time_in = time_current,\n",
    "                          time_out = None,\n",
    "                          time_published = None)\n",
    "        if not paper_new.accepted_by_editor:\n",
    "            paper_rejected_by_editor_qu.put(paper_new)\n",
    "            continue\n",
    "        most_free_reviewer = get_most_free_reviewer(reviewer_hp)\n",
    "        event_finish = most_free_reviewer.accept(event, paper_new)\n",
    "        if event_finish is not None:\n",
    "            heapq.heappush(event_hp, event_finish)\n",
    "            \n",
    "    elif event.kind == \"paper_out\":\n",
    "        heapq.heapify(reviewer_hp)\n",
    "        for i_reviewer in range(N_REVIEWERS): # The reviewer for this paper is mostly likely to be at the exit. Unless there are free reviewers.\n",
    "            reviewer_current = reviewer_hp[i_reviewer]\n",
    "            if reviewer_current.time_next == time_current:\n",
    "                paper_old, event_finish = reviewer_current.finish(event)\n",
    "                break\n",
    "                \n",
    "        if event_finish is not None:\n",
    "            heapq.heappush(event_hp, event_finish)\n",
    "        if paper_old.accepted_by_reviewer:\n",
    "            paper_reviewed_qu.put(paper_old)\n",
    "        else:\n",
    "            paper_rejected_by_reviewer_qu.put(paper_old)\n",
    "            \n",
    "    else:\n",
    "        n_paper = 0\n",
    "        while n_paper < N_ARTICLES_PER_ISSUE and not paper_reviewed_qu.empty():\n",
    "            paper_published = paper_reviewed_qu.get(False)\n",
    "            n_paper += 1\n",
    "            paper_published.time_published = time_current\n",
    "            paper_published_qu.put(paper_published)"
   ]
  },
  {
   "cell_type": "code",
   "execution_count": 36,
   "metadata": {},
   "outputs": [
    {
     "data": {
      "text/plain": [
       "101"
      ]
     },
     "execution_count": 36,
     "metadata": {},
     "output_type": "execute_result"
    }
   ],
   "source": [
    "paper_reviewed_qu.qsize()"
   ]
  },
  {
   "cell_type": "code",
   "execution_count": 37,
   "metadata": {},
   "outputs": [
    {
     "data": {
      "text/plain": [
       "67"
      ]
     },
     "execution_count": 37,
     "metadata": {},
     "output_type": "execute_result"
    }
   ],
   "source": [
    "paper_published_qu.qsize()"
   ]
  },
  {
   "cell_type": "code",
   "execution_count": 38,
   "metadata": {},
   "outputs": [
    {
     "data": {
      "text/plain": [
       "2008"
      ]
     },
     "execution_count": 38,
     "metadata": {},
     "output_type": "execute_result"
    }
   ],
   "source": [
    "paper_rejected_by_editor_qu.qsize()"
   ]
  },
  {
   "cell_type": "code",
   "execution_count": 39,
   "metadata": {},
   "outputs": [
    {
     "data": {
      "text/plain": [
       "24"
      ]
     },
     "execution_count": 39,
     "metadata": {},
     "output_type": "execute_result"
    }
   ],
   "source": [
    "paper_rejected_by_reviewer_qu.qsize()"
   ]
  },
  {
   "cell_type": "code",
   "execution_count": null,
   "metadata": {},
   "outputs": [],
   "source": []
  }
 ],
 "metadata": {
  "kernelspec": {
   "display_name": "Python 3",
   "language": "python",
   "name": "python3"
  },
  "language_info": {
   "codemirror_mode": {
    "name": "ipython",
    "version": 3
   },
   "file_extension": ".py",
   "mimetype": "text/x-python",
   "name": "python",
   "nbconvert_exporter": "python",
   "pygments_lexer": "ipython3",
   "version": "3.7.3"
  }
 },
 "nbformat": 4,
 "nbformat_minor": 2
}
